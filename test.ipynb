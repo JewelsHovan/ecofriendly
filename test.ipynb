{
 "cells": [
  {
   "cell_type": "code",
   "execution_count": 2,
   "metadata": {},
   "outputs": [],
   "source": [
    "import pandas as pd\n",
    "\n",
    "df = pd.read_csv('Processed_Unit.csv')"
   ]
  },
  {
   "cell_type": "code",
   "execution_count": 4,
   "metadata": {},
   "outputs": [
    {
     "data": {
      "text/plain": [
       "Index(['Facility.Id', 'FRS.Id', 'Facility.Name', 'City', 'State',\n",
       "       'Primary.NAICS.Code', 'Year', 'Industry.Type', 'Sector', 'Unit.Name',\n",
       "       'Unit.Type', 'Method', 'Max.Heat', 'CO2.emissions.non.biogenic.',\n",
       "       'Methane.emissions', 'Nitrous.Oxide.emissions',\n",
       "       'CO2.emissions.biogenic.', 'CO2_eq_emissions', 'CO2_emissions',\n",
       "       'CH4_emissions', 'N2O_emissions', 'Eco_Score'],\n",
       "      dtype='object')"
      ]
     },
     "execution_count": 4,
     "metadata": {},
     "output_type": "execute_result"
    }
   ],
   "source": [
    "df.columns"
   ]
  },
  {
   "cell_type": "code",
   "execution_count": 7,
   "metadata": {},
   "outputs": [
    {
     "data": {
      "text/plain": [
       "array(['23rd and 3rd', '29-6 #2 Central Delivery Point',\n",
       "       '30-5 Central Delivery Point Compressor Station', ...,\n",
       "       'Zion Energy Center', 'ZION LANDFILL', 'ZYBACH CRYOGENIC PLANT'],\n",
       "      dtype=object)"
      ]
     },
     "execution_count": 7,
     "metadata": {},
     "output_type": "execute_result"
    }
   ],
   "source": [
    "companies = df['Facility.Name'].unique()\n",
    "\n"
   ]
  }
 ],
 "metadata": {
  "kernelspec": {
   "display_name": "Python 3",
   "language": "python",
   "name": "python3"
  },
  "language_info": {
   "codemirror_mode": {
    "name": "ipython",
    "version": 3
   },
   "file_extension": ".py",
   "mimetype": "text/x-python",
   "name": "python",
   "nbconvert_exporter": "python",
   "pygments_lexer": "ipython3",
   "version": "3.11.7"
  }
 },
 "nbformat": 4,
 "nbformat_minor": 2
}
